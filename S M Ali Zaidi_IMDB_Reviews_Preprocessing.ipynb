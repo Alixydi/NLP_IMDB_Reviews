{
 "cells": [
  {
   "cell_type": "markdown",
   "id": "4d3a4937",
   "metadata": {},
   "source": [
    "# S M Ali Zaidi\n",
    "# DS 4 Violet\n",
    "# IMDB Reviews Data"
   ]
  },
  {
   "cell_type": "code",
   "execution_count": 2,
   "id": "246891ab",
   "metadata": {},
   "outputs": [],
   "source": [
    "import pandas as pd\n",
    "import os"
   ]
  },
  {
   "cell_type": "code",
   "execution_count": 3,
   "id": "ae7281c9",
   "metadata": {},
   "outputs": [],
   "source": [
    "def load_data(directory):\n",
    "    data = []\n",
    "    for sentiment in [\"pos\", \"neg\"]:\n",
    "        dir_name = os.path.join(directory, sentiment)\n",
    "        for file_name in os.listdir(dir_name):\n",
    "            if file_name.endswith('.txt'):\n",
    "                file_path = os.path.join(dir_name, file_name)\n",
    "                with open(file_path, 'r', encoding='utf-8') as file:\n",
    "                    review_text = file.read()\n",
    "                    data.append((review_text, sentiment))\n",
    "    return pd.DataFrame(data, columns=['Review', 'Sentiment'])\n"
   ]
  },
  {
   "cell_type": "code",
   "execution_count": 4,
   "id": "68066bc8",
   "metadata": {
    "scrolled": true
   },
   "outputs": [
    {
     "name": "stdout",
     "output_type": "stream",
     "text": [
      "                                              Review Sentiment\n",
      "0  Bromwell High is a cartoon comedy. It ran at t...       pos\n",
      "1  Homelessness (or Houselessness as George Carli...       pos\n",
      "2  Brilliant over-acting by Lesley Ann Warren. Be...       pos\n",
      "3  This is easily the most underrated film inn th...       pos\n",
      "4  This is not the typical Mel Brooks film. It wa...       pos\n"
     ]
    }
   ],
   "source": [
    "# Update these paths according to where you've stored the extracted dataset\n",
    "train_data_directory = '/Users/Sohaib/Documents/ATOM CAMP/Natural Language Processing/Assignment 1/Sentimant Analysis/aclImdb/train'\n",
    "test_data_directory = '/Users/Sohaib/Documents/ATOM CAMP/Natural Language Processing/Assignment 1/Sentimant Analysis/aclImdb/test'\n",
    "\n",
    "# Load the data\n",
    "train_data = load_data(train_data_directory)\n",
    "test_data = load_data(test_data_directory)\n",
    "\n",
    "# Display the first few entries of the training data\n",
    "print(train_data.head())\n"
   ]
  },
  {
   "cell_type": "code",
   "execution_count": 14,
   "id": "2ac0bad0",
   "metadata": {
    "scrolled": true
   },
   "outputs": [
    {
     "name": "stderr",
     "output_type": "stream",
     "text": [
      "[nltk_data] Downloading package punkt to\n",
      "[nltk_data]     C:\\Users\\Sohaib\\AppData\\Roaming\\nltk_data...\n",
      "[nltk_data]   Package punkt is already up-to-date!\n",
      "[nltk_data] Downloading package stopwords to\n",
      "[nltk_data]     C:\\Users\\Sohaib\\AppData\\Roaming\\nltk_data...\n",
      "[nltk_data]   Package stopwords is already up-to-date!\n",
      "[nltk_data] Downloading package wordnet to\n",
      "[nltk_data]     C:\\Users\\Sohaib\\AppData\\Roaming\\nltk_data...\n",
      "[nltk_data]   Package wordnet is already up-to-date!\n"
     ]
    },
    {
     "data": {
      "text/plain": [
       "True"
      ]
     },
     "execution_count": 14,
     "metadata": {},
     "output_type": "execute_result"
    }
   ],
   "source": [
    "from nltk.corpus import stopwords\n",
    "from nltk.tokenize import word_tokenize, sent_tokenize\n",
    "from nltk.stem import PorterStemmer, WordNetLemmatizer\n",
    "import re\n",
    "import nltk\n",
    "\n",
    "# Download necessary NLTK resources\n",
    "nltk.download('punkt')\n",
    "nltk.download('stopwords')\n",
    "nltk.download('wordnet')"
   ]
  },
  {
   "cell_type": "markdown",
   "id": "34b26082",
   "metadata": {},
   "source": [
    "1. Removing Punctuations"
   ]
  },
  {
   "cell_type": "code",
   "execution_count": 99,
   "id": "c5d5c898",
   "metadata": {},
   "outputs": [
    {
     "data": {
      "text/plain": [
       "0        Bromwell High is a cartoon comedy It ran at th...\n",
       "1        Homelessness or Houselessness as George Carlin...\n",
       "2        Brilliant overacting by Lesley Ann Warren Best...\n",
       "3        This is easily the most underrated film inn th...\n",
       "4        This is not the typical Mel Brooks film It was...\n",
       "                               ...                        \n",
       "24995    Towards the end of the movie I felt it was too...\n",
       "24996    This is the kind of movie that my enemies cont...\n",
       "24997    I saw Descent last night at the Stockholm Film...\n",
       "24998    Some films that you pick up for a pound turn o...\n",
       "24999    This is one of the dumbest films Ive ever seen...\n",
       "Name: Review, Length: 25000, dtype: object"
      ]
     },
     "execution_count": 99,
     "metadata": {},
     "output_type": "execute_result"
    }
   ],
   "source": [
    "import re\n",
    "# Train_data is a pandas DataFrame and 'Review' is the column with text data\n",
    "text_no_punctuation_train = train_data['Review'].apply(lambda x: re.sub(r'[^\\w\\s]', '', x))\n",
    "text_no_punctuation_train"
   ]
  },
  {
   "cell_type": "code",
   "execution_count": 100,
   "id": "22cb9df5",
   "metadata": {},
   "outputs": [
    {
     "data": {
      "text/plain": [
       "0        I went and saw this movie last night after bei...\n",
       "1        Actor turned director Bill Paxton follows up h...\n",
       "2        As a recreational golfer with some knowledge o...\n",
       "3        I saw this film in a sneak preview and it is d...\n",
       "4        Bill Paxton has taken the true story of the 19...\n",
       "                               ...                        \n",
       "24995    I occasionally let my kids watch this garbage ...\n",
       "24996    When all we have anymore is pretty much realit...\n",
       "24997    The basic genre is a thriller intercut with an...\n",
       "24998    Four things intrigued me as to this film  firs...\n",
       "24999    David Bryces comments nearby are exceptionally...\n",
       "Name: Review, Length: 25000, dtype: object"
      ]
     },
     "execution_count": 100,
     "metadata": {},
     "output_type": "execute_result"
    }
   ],
   "source": [
    "text_no_punctuation_test = test_data['Review'].apply(lambda x: re.sub(r'[^\\w\\s]', '', x))\n",
    "text_no_punctuation_test"
   ]
  },
  {
   "cell_type": "markdown",
   "id": "f390e0f7",
   "metadata": {},
   "source": [
    "2. Removing URLs"
   ]
  },
  {
   "cell_type": "code",
   "execution_count": 101,
   "id": "83315713",
   "metadata": {},
   "outputs": [
    {
     "data": {
      "text/plain": [
       "0        Bromwell High is a cartoon comedy It ran at th...\n",
       "1        Homelessness or Houselessness as George Carlin...\n",
       "2        Brilliant overacting by Lesley Ann Warren Best...\n",
       "3        This is easily the most underrated film inn th...\n",
       "4        This is not the typical Mel Brooks film It was...\n",
       "                               ...                        \n",
       "24995    Towards the end of the movie I felt it was too...\n",
       "24996    This is the kind of movie that my enemies cont...\n",
       "24997    I saw Descent last night at the Stockholm Film...\n",
       "24998    Some films that you pick up for a pound turn o...\n",
       "24999    This is one of the dumbest films Ive ever seen...\n",
       "Name: Review, Length: 25000, dtype: object"
      ]
     },
     "execution_count": 101,
     "metadata": {},
     "output_type": "execute_result"
    }
   ],
   "source": [
    "text_no_urls_train = text_no_punctuation_train.apply(lambda x: re.sub(r'http\\S+', '', x))\n",
    "text_no_urls_train"
   ]
  },
  {
   "cell_type": "code",
   "execution_count": 102,
   "id": "a9559210",
   "metadata": {},
   "outputs": [
    {
     "data": {
      "text/plain": [
       "0        I went and saw this movie last night after bei...\n",
       "1        Actor turned director Bill Paxton follows up h...\n",
       "2        As a recreational golfer with some knowledge o...\n",
       "3        I saw this film in a sneak preview and it is d...\n",
       "4        Bill Paxton has taken the true story of the 19...\n",
       "                               ...                        \n",
       "24995    I occasionally let my kids watch this garbage ...\n",
       "24996    When all we have anymore is pretty much realit...\n",
       "24997    The basic genre is a thriller intercut with an...\n",
       "24998    Four things intrigued me as to this film  firs...\n",
       "24999    David Bryces comments nearby are exceptionally...\n",
       "Name: Review, Length: 25000, dtype: object"
      ]
     },
     "execution_count": 102,
     "metadata": {},
     "output_type": "execute_result"
    }
   ],
   "source": [
    "text_no_urls_test = text_no_punctuation_test.apply(lambda x: re.sub(r'http\\S+', '', x))\n",
    "text_no_urls_test"
   ]
  },
  {
   "cell_type": "markdown",
   "id": "2eae28c1",
   "metadata": {},
   "source": [
    "4. Lower Casing"
   ]
  },
  {
   "cell_type": "code",
   "execution_count": 103,
   "id": "780e1b24",
   "metadata": {},
   "outputs": [
    {
     "data": {
      "text/plain": [
       "0        bromwell high is a cartoon comedy it ran at th...\n",
       "1        homelessness or houselessness as george carlin...\n",
       "2        brilliant overacting by lesley ann warren best...\n",
       "3        this is easily the most underrated film inn th...\n",
       "4        this is not the typical mel brooks film it was...\n",
       "                               ...                        \n",
       "24995    towards the end of the movie i felt it was too...\n",
       "24996    this is the kind of movie that my enemies cont...\n",
       "24997    i saw descent last night at the stockholm film...\n",
       "24998    some films that you pick up for a pound turn o...\n",
       "24999    this is one of the dumbest films ive ever seen...\n",
       "Name: Review, Length: 25000, dtype: object"
      ]
     },
     "execution_count": 103,
     "metadata": {},
     "output_type": "execute_result"
    }
   ],
   "source": [
    "text_lower_train = text_no_urls_train.str.lower()\n",
    "text_lower_train"
   ]
  },
  {
   "cell_type": "code",
   "execution_count": 104,
   "id": "523df4eb",
   "metadata": {},
   "outputs": [
    {
     "data": {
      "text/plain": [
       "0        i went and saw this movie last night after bei...\n",
       "1        actor turned director bill paxton follows up h...\n",
       "2        as a recreational golfer with some knowledge o...\n",
       "3        i saw this film in a sneak preview and it is d...\n",
       "4        bill paxton has taken the true story of the 19...\n",
       "                               ...                        \n",
       "24995    i occasionally let my kids watch this garbage ...\n",
       "24996    when all we have anymore is pretty much realit...\n",
       "24997    the basic genre is a thriller intercut with an...\n",
       "24998    four things intrigued me as to this film  firs...\n",
       "24999    david bryces comments nearby are exceptionally...\n",
       "Name: Review, Length: 25000, dtype: object"
      ]
     },
     "execution_count": 104,
     "metadata": {},
     "output_type": "execute_result"
    }
   ],
   "source": [
    "text_lower_test = text_no_urls_test.str.lower()\n",
    "text_lower_test"
   ]
  },
  {
   "cell_type": "markdown",
   "id": "75b219b7",
   "metadata": {},
   "source": [
    "4. Removing Stop Words\n",
    "5. Tokenization"
   ]
  },
  {
   "cell_type": "code",
   "execution_count": 105,
   "id": "1d405866",
   "metadata": {},
   "outputs": [
    {
     "name": "stdout",
     "output_type": "stream",
     "text": [
      "['bromwell', 'high', 'cartoon', 'comedy', 'ran', 'time', 'programs', 'school', 'life', 'teachers', '35', 'years', 'teaching', 'profession', 'lead', 'believe', 'bromwell', 'highs', 'satire', 'much', 'closer', 'reality', 'teachers', 'scramble', 'survive', 'financially', 'insightful', 'students', 'see', 'right', 'pathetic', 'teachers', 'pomp', 'pettiness', 'whole', 'situation', 'remind', 'schools', 'knew', 'students', 'saw', 'episode', 'student', 'repeatedly', 'tried', 'burn', 'school', 'immediately', 'recalled', 'high', 'classic', 'line', 'inspector', 'im', 'sack', 'one', 'teachers', 'student', 'welcome', 'bromwell', 'high', 'expect', 'many', 'adults', 'age', 'think', 'bromwell', 'high', 'far', 'fetched', 'pity', 'isnt']\n",
      "['homelessness', 'houselessness', 'george', 'carlin', 'stated', 'issue', 'years', 'never', 'plan', 'help', 'street', 'considered', 'human', 'everything', 'going', 'school', 'work', 'vote', 'matter', 'people', 'think', 'homeless', 'lost', 'cause', 'worrying', 'things', 'racism', 'war', 'iraq', 'pressuring', 'kids', 'succeed', 'technology', 'elections', 'inflation', 'worrying', 'theyll', 'next', 'end', 'streetsbr', 'br', 'given', 'bet', 'live', 'streets', 'month', 'without', 'luxuries', 'home', 'entertainment', 'sets', 'bathroom', 'pictures', 'wall', 'computer', 'everything', 'treasure', 'see', 'like', 'homeless', 'goddard', 'bolts', 'lessonbr', 'br', 'mel', 'brooks', 'directs', 'stars', 'bolt', 'plays', 'rich', 'man', 'everything', 'world', 'deciding', 'make', 'bet', 'sissy', 'rival', 'jeffery', 'tambor', 'see', 'live', 'streets', 'thirty', 'days', 'without', 'luxuries', 'bolt', 'succeeds', 'wants', 'future', 'project', 'making', 'buildings', 'bets', 'bolt', 'thrown', 'street', 'bracelet', 'leg', 'monitor', 'every', 'move', 'cant', 'step', 'sidewalk', 'hes', 'given', 'nickname', 'pepto', 'vagrant', 'written', 'forehead', 'bolt', 'meets', 'characters', 'including', 'woman', 'name', 'molly', 'lesley', 'ann', 'warren', 'exdancer', 'got', 'divorce', 'losing', 'home', 'pals', 'sailor', 'howard', 'morris', 'fumes', 'teddy', 'wilson', 'already', 'used', 'streets', 'theyre', 'survivors', 'bolt', 'isnt', 'hes', 'used', 'reaching', 'mutual', 'agreements', 'like', 'rich', 'fight', 'flight', 'kill', 'killedbr', 'br', 'love', 'connection', 'molly', 'bolt', 'wasnt', 'necessary', 'plot', 'found', 'life', 'stinks', 'one', 'mel', 'brooks', 'observant', 'films', 'prior', 'comedy', 'shows', 'tender', 'side', 'compared', 'slapstick', 'work', 'blazing', 'saddles', 'young', 'frankenstein', 'spaceballs', 'matter', 'show', 'like', 'something', 'valuable', 'losing', 'next', 'day', 'hand', 'making', 'stupid', 'bet', 'like', 'rich', 'people', 'dont', 'know', 'money', 'maybe', 'give', 'homeless', 'instead', 'using', 'like', 'monopoly', 'moneybr', 'br', 'maybe', 'film', 'inspire', 'help', 'others']\n",
      "['brilliant', 'overacting', 'lesley', 'ann', 'warren', 'best', 'dramatic', 'hobo', 'lady', 'ever', 'seen', 'love', 'scenes', 'clothes', 'warehouse', 'second', 'none', 'corn', 'face', 'classic', 'good', 'anything', 'blazing', 'saddles', 'take', 'lawyers', 'also', 'superb', 'accused', 'turncoat', 'selling', 'boss', 'dishonest', 'lawyer', 'pepto', 'bolt', 'shrugs', 'indifferently', 'im', 'lawyer', 'says', 'three', 'funny', 'words', 'jeffrey', 'tambor', 'favorite', 'later', 'larry', 'sanders', 'show', 'fantastic', 'mad', 'millionaire', 'wants', 'crush', 'ghetto', 'character', 'malevolent', 'usual', 'hospital', 'scene', 'scene', 'homeless', 'invade', 'demolition', 'site', 'alltime', 'classics', 'look', 'legs', 'scene', 'two', 'big', 'diggers', 'fighting', 'one', 'bleeds', 'movie', 'gets', 'better', 'time', 'see', 'quite', 'often']\n",
      "['easily', 'underrated', 'film', 'inn', 'brooks', 'cannon', 'sure', 'flawed', 'give', 'realistic', 'view', 'homelessness', 'unlike', 'say', 'citizen', 'kane', 'gave', 'realistic', 'view', 'lounge', 'singers', 'titanic', 'gave', 'realistic', 'view', 'italians', 'idiots', 'many', 'jokes', 'fall', 'flat', 'still', 'film', 'lovable', 'way', 'many', 'comedies', 'pull', 'story', 'traditionally', 'reviled', 'members', 'society', 'truly', 'impressive', 'fisher', 'king', 'crap', 'either', 'complaint', 'brooks', 'cast', 'someone', 'else', 'lead', 'love', 'mel', 'director', 'writer', 'much', 'lead']\n",
      "['typical', 'mel', 'brooks', 'film', 'much', 'less', 'slapstick', 'movies', 'actually', 'plot', 'followable', 'leslie', 'ann', 'warren', 'made', 'movie', 'fantastic', 'underrated', 'actress', 'moments', 'could', 'fleshed', 'bit', 'scenes', 'could', 'probably', 'cut', 'make', 'room', 'worth', 'price', 'rent', 'see', 'acting', 'good', 'overall', 'brooks', 'good', 'job', 'without', 'characteristic', 'speaking', 'directly', 'audience', 'warren', 'best', 'actor', 'movie', 'fume', 'sailor', 'played', 'parts', 'well']\n"
     ]
    }
   ],
   "source": [
    "from nltk.corpus import stopwords\n",
    "from nltk.tokenize import word_tokenize\n",
    "\n",
    "# Assuming text_lower is a pandas Series with each review in lowercase\n",
    "stop_words = set(stopwords.words('english'))\n",
    "\n",
    "# Function to tokenize text and remove stopwords\n",
    "def tokenize_and_remove_stopwords(text):\n",
    "    tokens = word_tokenize(text)\n",
    "    tokens_no_stopwords = [word for word in tokens if word not in stop_words]\n",
    "    return tokens_no_stopwords\n",
    "\n",
    "# Apply the function to each review in the Series\n",
    "tokens_no_stopwords_series_train = text_lower_train.apply(tokenize_and_remove_stopwords)\n",
    "\n",
    "# Example: Print the processed tokens of the first 5 reviews\n",
    "for tokens in tokens_no_stopwords_series_train.head():\n",
    "    print(tokens)\n"
   ]
  },
  {
   "cell_type": "code",
   "execution_count": 106,
   "id": "bc087941",
   "metadata": {},
   "outputs": [
    {
     "name": "stdout",
     "output_type": "stream",
     "text": [
      "['went', 'saw', 'movie', 'last', 'night', 'coaxed', 'friends', 'mine', 'ill', 'admit', 'reluctant', 'see', 'knew', 'ashton', 'kutcher', 'able', 'comedy', 'wrong', 'kutcher', 'played', 'character', 'jake', 'fischer', 'well', 'kevin', 'costner', 'played', 'ben', 'randall', 'professionalism', 'sign', 'good', 'movie', 'toy', 'emotions', 'one', 'exactly', 'entire', 'theater', 'sold', 'overcome', 'laughter', 'first', 'half', 'movie', 'moved', 'tears', 'second', 'half', 'exiting', 'theater', 'saw', 'many', 'women', 'tears', 'many', 'full', 'grown', 'men', 'well', 'trying', 'desperately', 'let', 'anyone', 'see', 'crying', 'movie', 'great', 'suggest', 'go', 'see', 'judge']\n",
      "['actor', 'turned', 'director', 'bill', 'paxton', 'follows', 'promising', 'debut', 'gothichorror', 'frailty', 'family', 'friendly', 'sports', 'drama', '1913', 'us', 'open', 'young', 'american', 'caddy', 'rises', 'humble', 'background', 'play', 'bristish', 'idol', 'dubbed', 'greatest', 'game', 'ever', 'played', 'im', 'fan', 'golf', 'scrappy', 'underdog', 'sports', 'flicks', 'dime', 'dozen', 'recently', 'done', 'grand', 'effect', 'miracle', 'cinderella', 'man', 'film', 'enthralling', 'samebr', 'br', 'film', 'starts', 'creative', 'opening', 'credits', 'imagine', 'disneyfied', 'version', 'animated', 'opening', 'credits', 'hbos', 'carnivale', 'rome', 'lumbers', 'along', 'slowly', 'first', 'bythenumbers', 'hour', 'action', 'moves', 'us', 'open', 'things', 'pick', 'well', 'paxton', 'nice', 'job', 'shows', 'knack', 'effective', 'directorial', 'flourishes', 'loved', 'rainsoaked', 'montage', 'action', 'day', 'two', 'open', 'propel', 'plot', 'add', 'unexpected', 'psychological', 'depth', 'proceedings', 'theres', 'compelling', 'character', 'development', 'british', 'harry', 'vardon', 'haunted', 'images', 'aristocrats', 'black', 'suits', 'top', 'hats', 'destroyed', 'family', 'cottage', 'child', 'make', 'way', 'golf', 'course', 'also', 'good', 'job', 'visually', 'depicting', 'goes', 'players', 'heads', 'pressure', 'golf', 'painfully', 'boring', 'sport', 'brought', 'vividly', 'alive', 'credit', 'also', 'given', 'set', 'designers', 'costume', 'department', 'creating', 'engaging', 'periodpiece', 'atmosphere', 'london', 'boston', 'beginning', 'twentieth', 'centurybr', 'br', 'know', 'going', 'end', 'based', 'true', 'story', 'also', 'films', 'genre', 'follow', 'template', 'paxton', 'puts', 'better', 'average', 'show', 'perhaps', 'indicates', 'talent', 'behind', 'camera', 'ever', 'front', 'despite', 'formulaic', 'nature', 'nice', 'easy', 'film', 'root', 'deserves', 'find', 'audience']\n",
      "['recreational', 'golfer', 'knowledge', 'sports', 'history', 'pleased', 'disneys', 'sensitivity', 'issues', 'class', 'golf', 'early', 'twentieth', 'century', 'movie', 'depicted', 'well', 'psychological', 'battles', 'harry', 'vardon', 'fought', 'within', 'childhood', 'trauma', 'evicted', 'inability', 'break', 'glass', 'ceiling', 'prevents', 'accepted', 'equal', 'english', 'golf', 'society', 'likewise', 'young', 'ouimet', 'goes', 'class', 'struggles', 'mere', 'caddie', 'eyes', 'upper', 'crust', 'americans', 'scoff', 'attempts', 'rise', 'standing', 'br', 'br', 'loved', 'best', 'however', 'theme', 'class', 'manifested', 'characters', 'ouimets', 'parents', 'father', 'workingclass', 'drone', 'sees', 'value', 'hard', 'work', 'intimidated', 'upper', 'class', 'mother', 'however', 'recognizes', 'sons', 'talent', 'desire', 'encourages', 'pursue', 'dream', 'competing', 'think', 'inferiorbr', 'br', 'finally', 'golf', 'scenes', 'well', 'photographed', 'although', 'course', 'used', 'movie', 'actual', 'site', 'historical', 'tournament', 'little', 'liberties', 'taken', 'disney', 'detract', 'beauty', 'film', 'theres', 'one', 'little', 'disney', 'moment', 'pool', 'table', 'otherwise', 'viewer', 'really', 'think', 'disney', 'ending', 'miracle', 'disney', 'creation', 'one', 'human', 'history', 'could', 'written']\n",
      "['saw', 'film', 'sneak', 'preview', 'delightful', 'cinematography', 'unusually', 'creative', 'acting', 'good', 'story', 'fabulous', 'movie', 'well', 'wont', 'doesnt', 'deserve', 'film', 'didnt', 'realize', 'charming', 'shia', 'lebouf', 'could', 'marvelous', 'selfcontained', 'job', 'lead', 'theres', 'something', 'incredibly', 'sweet', 'makes', 'movie', 'even', 'better', 'actors', 'good', 'job', 'well', 'film', 'contains', 'moments', 'really', 'high', 'suspense', 'one', 'might', 'expect', 'movie', 'golf', 'sports', 'movies', 'dime', 'dozen', 'one', 'stands', 'br', 'br', 'one', 'id', 'recommend', 'anyone']\n",
      "['bill', 'paxton', 'taken', 'true', 'story', '1913', 'us', 'golf', 'open', 'made', 'film', 'much', 'extraordinary', 'game', 'golf', 'film', 'also', 'deals', 'directly', 'class', 'tensions', 'early', 'twentieth', 'century', 'touches', 'upon', 'profound', 'anticatholic', 'prejudices', 'british', 'american', 'establishments', 'heart', 'film', 'perennial', 'favourite', 'triumph', 'oddsbr', 'br', 'acting', 'exemplary', 'throughout', 'stephen', 'dillane', 'excellent', 'usual', 'revelation', 'movie', 'shia', 'laboeuf', 'delivers', 'disciplined', 'dignified', 'highly', 'sympathetic', 'performance', 'working', 'class', 'francoirish', 'kid', 'fighting', 'way', 'prejudices', 'new', 'england', 'wasp', 'establishment', 'familiar', 'slapstick', 'performances', 'even', 'stevens', 'demonstration', 'maturity', 'delightful', 'surprise', 'josh', 'flitter', 'ten', 'year', 'old', 'caddy', 'threatens', 'steal', 'every', 'scene', 'appearsbr', 'br', 'old', 'fashioned', 'movie', 'best', 'sense', 'word', 'fine', 'acting', 'clear', 'directing', 'great', 'story', 'grips', 'end', 'final', 'scene', 'affectionate', 'nod', 'casablanca', 'one', 'many', 'pleasures', 'fill', 'great', 'movie']\n"
     ]
    }
   ],
   "source": [
    "# Assuming text_lower is a pandas Series with each review in lowercase\n",
    "stop_words = set(stopwords.words('english'))\n",
    "\n",
    "# Function to tokenize text and remove stopwords\n",
    "def tokenize_and_remove_stopwords(text):\n",
    "    tokens = word_tokenize(text)\n",
    "    tokens_no_stopwords = [word for word in tokens if word not in stop_words]\n",
    "    return tokens_no_stopwords\n",
    "\n",
    "# Apply the function to each review in the Series\n",
    "tokens_no_stopwords_series_test = text_lower_test.apply(tokenize_and_remove_stopwords)\n",
    "\n",
    "# Example: Print the processed tokens of the first 5 reviews\n",
    "for tokens in tokens_no_stopwords_series_test.head():\n",
    "    print(tokens)\n"
   ]
  },
  {
   "cell_type": "markdown",
   "id": "eb03b2c1",
   "metadata": {},
   "source": [
    "6. Stemming"
   ]
  },
  {
   "cell_type": "code",
   "execution_count": 107,
   "id": "510cd09a",
   "metadata": {},
   "outputs": [
    {
     "name": "stdout",
     "output_type": "stream",
     "text": [
      "['bromwel', 'high', 'cartoon', 'comedi', 'ran', 'time', 'program', 'school', 'life', 'teacher', '35', 'year', 'teach', 'profess', 'lead', 'believ', 'bromwel', 'high', 'satir', 'much', 'closer', 'realiti', 'teacher', 'scrambl', 'surviv', 'financi', 'insight', 'student', 'see', 'right', 'pathet', 'teacher', 'pomp', 'petti', 'whole', 'situat', 'remind', 'school', 'knew', 'student', 'saw', 'episod', 'student', 'repeatedli', 'tri', 'burn', 'school', 'immedi', 'recal', 'high', 'classic', 'line', 'inspector', 'im', 'sack', 'one', 'teacher', 'student', 'welcom', 'bromwel', 'high', 'expect', 'mani', 'adult', 'age', 'think', 'bromwel', 'high', 'far', 'fetch', 'piti', 'isnt']\n",
      "['homeless', 'houseless', 'georg', 'carlin', 'state', 'issu', 'year', 'never', 'plan', 'help', 'street', 'consid', 'human', 'everyth', 'go', 'school', 'work', 'vote', 'matter', 'peopl', 'think', 'homeless', 'lost', 'caus', 'worri', 'thing', 'racism', 'war', 'iraq', 'pressur', 'kid', 'succeed', 'technolog', 'elect', 'inflat', 'worri', 'theyll', 'next', 'end', 'streetsbr', 'br', 'given', 'bet', 'live', 'street', 'month', 'without', 'luxuri', 'home', 'entertain', 'set', 'bathroom', 'pictur', 'wall', 'comput', 'everyth', 'treasur', 'see', 'like', 'homeless', 'goddard', 'bolt', 'lessonbr', 'br', 'mel', 'brook', 'direct', 'star', 'bolt', 'play', 'rich', 'man', 'everyth', 'world', 'decid', 'make', 'bet', 'sissi', 'rival', 'jefferi', 'tambor', 'see', 'live', 'street', 'thirti', 'day', 'without', 'luxuri', 'bolt', 'succe', 'want', 'futur', 'project', 'make', 'build', 'bet', 'bolt', 'thrown', 'street', 'bracelet', 'leg', 'monitor', 'everi', 'move', 'cant', 'step', 'sidewalk', 'he', 'given', 'nicknam', 'pepto', 'vagrant', 'written', 'forehead', 'bolt', 'meet', 'charact', 'includ', 'woman', 'name', 'molli', 'lesley', 'ann', 'warren', 'exdanc', 'got', 'divorc', 'lose', 'home', 'pal', 'sailor', 'howard', 'morri', 'fume', 'teddi', 'wilson', 'alreadi', 'use', 'street', 'theyr', 'survivor', 'bolt', 'isnt', 'he', 'use', 'reach', 'mutual', 'agreement', 'like', 'rich', 'fight', 'flight', 'kill', 'killedbr', 'br', 'love', 'connect', 'molli', 'bolt', 'wasnt', 'necessari', 'plot', 'found', 'life', 'stink', 'one', 'mel', 'brook', 'observ', 'film', 'prior', 'comedi', 'show', 'tender', 'side', 'compar', 'slapstick', 'work', 'blaze', 'saddl', 'young', 'frankenstein', 'spacebal', 'matter', 'show', 'like', 'someth', 'valuabl', 'lose', 'next', 'day', 'hand', 'make', 'stupid', 'bet', 'like', 'rich', 'peopl', 'dont', 'know', 'money', 'mayb', 'give', 'homeless', 'instead', 'use', 'like', 'monopoli', 'moneybr', 'br', 'mayb', 'film', 'inspir', 'help', 'other']\n",
      "['brilliant', 'overact', 'lesley', 'ann', 'warren', 'best', 'dramat', 'hobo', 'ladi', 'ever', 'seen', 'love', 'scene', 'cloth', 'warehous', 'second', 'none', 'corn', 'face', 'classic', 'good', 'anyth', 'blaze', 'saddl', 'take', 'lawyer', 'also', 'superb', 'accus', 'turncoat', 'sell', 'boss', 'dishonest', 'lawyer', 'pepto', 'bolt', 'shrug', 'indiffer', 'im', 'lawyer', 'say', 'three', 'funni', 'word', 'jeffrey', 'tambor', 'favorit', 'later', 'larri', 'sander', 'show', 'fantast', 'mad', 'millionair', 'want', 'crush', 'ghetto', 'charact', 'malevol', 'usual', 'hospit', 'scene', 'scene', 'homeless', 'invad', 'demolit', 'site', 'alltim', 'classic', 'look', 'leg', 'scene', 'two', 'big', 'digger', 'fight', 'one', 'bleed', 'movi', 'get', 'better', 'time', 'see', 'quit', 'often']\n",
      "['easili', 'underr', 'film', 'inn', 'brook', 'cannon', 'sure', 'flaw', 'give', 'realist', 'view', 'homeless', 'unlik', 'say', 'citizen', 'kane', 'gave', 'realist', 'view', 'loung', 'singer', 'titan', 'gave', 'realist', 'view', 'italian', 'idiot', 'mani', 'joke', 'fall', 'flat', 'still', 'film', 'lovabl', 'way', 'mani', 'comedi', 'pull', 'stori', 'tradit', 'revil', 'member', 'societi', 'truli', 'impress', 'fisher', 'king', 'crap', 'either', 'complaint', 'brook', 'cast', 'someon', 'els', 'lead', 'love', 'mel', 'director', 'writer', 'much', 'lead']\n",
      "['typic', 'mel', 'brook', 'film', 'much', 'less', 'slapstick', 'movi', 'actual', 'plot', 'follow', 'lesli', 'ann', 'warren', 'made', 'movi', 'fantast', 'underr', 'actress', 'moment', 'could', 'flesh', 'bit', 'scene', 'could', 'probabl', 'cut', 'make', 'room', 'worth', 'price', 'rent', 'see', 'act', 'good', 'overal', 'brook', 'good', 'job', 'without', 'characterist', 'speak', 'directli', 'audienc', 'warren', 'best', 'actor', 'movi', 'fume', 'sailor', 'play', 'part', 'well']\n"
     ]
    }
   ],
   "source": [
    "from nltk.stem import PorterStemmer\n",
    "\n",
    "stemmer = PorterStemmer()\n",
    "\n",
    "# Function to apply stemming to each token in the list of tokens\n",
    "def stem_tokens(tokens_list):\n",
    "    return [stemmer.stem(word) for word in tokens_list]\n",
    "\n",
    "# Apply the function to each list of tokens in the series\n",
    "stemmed_tokens_series_train = tokens_no_stopwords_series_train.apply(stem_tokens)\n",
    "\n",
    "# Example: Print the stemmed tokens of the first 5 reviews\n",
    "for tokens in stemmed_tokens_series_train.head():\n",
    "    print(tokens)\n"
   ]
  },
  {
   "cell_type": "code",
   "execution_count": 108,
   "id": "908e2e52",
   "metadata": {},
   "outputs": [
    {
     "name": "stdout",
     "output_type": "stream",
     "text": [
      "['went', 'saw', 'movi', 'last', 'night', 'coax', 'friend', 'mine', 'ill', 'admit', 'reluct', 'see', 'knew', 'ashton', 'kutcher', 'abl', 'comedi', 'wrong', 'kutcher', 'play', 'charact', 'jake', 'fischer', 'well', 'kevin', 'costner', 'play', 'ben', 'randal', 'profession', 'sign', 'good', 'movi', 'toy', 'emot', 'one', 'exactli', 'entir', 'theater', 'sold', 'overcom', 'laughter', 'first', 'half', 'movi', 'move', 'tear', 'second', 'half', 'exit', 'theater', 'saw', 'mani', 'women', 'tear', 'mani', 'full', 'grown', 'men', 'well', 'tri', 'desper', 'let', 'anyon', 'see', 'cri', 'movi', 'great', 'suggest', 'go', 'see', 'judg']\n",
      "['actor', 'turn', 'director', 'bill', 'paxton', 'follow', 'promis', 'debut', 'gothichorror', 'frailti', 'famili', 'friendli', 'sport', 'drama', '1913', 'us', 'open', 'young', 'american', 'caddi', 'rise', 'humbl', 'background', 'play', 'bristish', 'idol', 'dub', 'greatest', 'game', 'ever', 'play', 'im', 'fan', 'golf', 'scrappi', 'underdog', 'sport', 'flick', 'dime', 'dozen', 'recent', 'done', 'grand', 'effect', 'miracl', 'cinderella', 'man', 'film', 'enthral', 'samebr', 'br', 'film', 'start', 'creativ', 'open', 'credit', 'imagin', 'disneyfi', 'version', 'anim', 'open', 'credit', 'hbo', 'carnival', 'rome', 'lumber', 'along', 'slowli', 'first', 'bythenumb', 'hour', 'action', 'move', 'us', 'open', 'thing', 'pick', 'well', 'paxton', 'nice', 'job', 'show', 'knack', 'effect', 'directori', 'flourish', 'love', 'rainsoak', 'montag', 'action', 'day', 'two', 'open', 'propel', 'plot', 'add', 'unexpect', 'psycholog', 'depth', 'proceed', 'there', 'compel', 'charact', 'develop', 'british', 'harri', 'vardon', 'haunt', 'imag', 'aristocrat', 'black', 'suit', 'top', 'hat', 'destroy', 'famili', 'cottag', 'child', 'make', 'way', 'golf', 'cours', 'also', 'good', 'job', 'visual', 'depict', 'goe', 'player', 'head', 'pressur', 'golf', 'pain', 'bore', 'sport', 'brought', 'vividli', 'aliv', 'credit', 'also', 'given', 'set', 'design', 'costum', 'depart', 'creat', 'engag', 'periodpiec', 'atmospher', 'london', 'boston', 'begin', 'twentieth', 'centurybr', 'br', 'know', 'go', 'end', 'base', 'true', 'stori', 'also', 'film', 'genr', 'follow', 'templat', 'paxton', 'put', 'better', 'averag', 'show', 'perhap', 'indic', 'talent', 'behind', 'camera', 'ever', 'front', 'despit', 'formula', 'natur', 'nice', 'easi', 'film', 'root', 'deserv', 'find', 'audienc']\n",
      "['recreat', 'golfer', 'knowledg', 'sport', 'histori', 'pleas', 'disney', 'sensit', 'issu', 'class', 'golf', 'earli', 'twentieth', 'centuri', 'movi', 'depict', 'well', 'psycholog', 'battl', 'harri', 'vardon', 'fought', 'within', 'childhood', 'trauma', 'evict', 'inabl', 'break', 'glass', 'ceil', 'prevent', 'accept', 'equal', 'english', 'golf', 'societi', 'likewis', 'young', 'ouimet', 'goe', 'class', 'struggl', 'mere', 'caddi', 'eye', 'upper', 'crust', 'american', 'scoff', 'attempt', 'rise', 'stand', 'br', 'br', 'love', 'best', 'howev', 'theme', 'class', 'manifest', 'charact', 'ouimet', 'parent', 'father', 'workingclass', 'drone', 'see', 'valu', 'hard', 'work', 'intimid', 'upper', 'class', 'mother', 'howev', 'recogn', 'son', 'talent', 'desir', 'encourag', 'pursu', 'dream', 'compet', 'think', 'inferiorbr', 'br', 'final', 'golf', 'scene', 'well', 'photograph', 'although', 'cours', 'use', 'movi', 'actual', 'site', 'histor', 'tournament', 'littl', 'liberti', 'taken', 'disney', 'detract', 'beauti', 'film', 'there', 'one', 'littl', 'disney', 'moment', 'pool', 'tabl', 'otherwis', 'viewer', 'realli', 'think', 'disney', 'end', 'miracl', 'disney', 'creation', 'one', 'human', 'histori', 'could', 'written']\n",
      "['saw', 'film', 'sneak', 'preview', 'delight', 'cinematographi', 'unusu', 'creativ', 'act', 'good', 'stori', 'fabul', 'movi', 'well', 'wont', 'doesnt', 'deserv', 'film', 'didnt', 'realiz', 'charm', 'shia', 'lebouf', 'could', 'marvel', 'selfcontain', 'job', 'lead', 'there', 'someth', 'incred', 'sweet', 'make', 'movi', 'even', 'better', 'actor', 'good', 'job', 'well', 'film', 'contain', 'moment', 'realli', 'high', 'suspens', 'one', 'might', 'expect', 'movi', 'golf', 'sport', 'movi', 'dime', 'dozen', 'one', 'stand', 'br', 'br', 'one', 'id', 'recommend', 'anyon']\n",
      "['bill', 'paxton', 'taken', 'true', 'stori', '1913', 'us', 'golf', 'open', 'made', 'film', 'much', 'extraordinari', 'game', 'golf', 'film', 'also', 'deal', 'directli', 'class', 'tension', 'earli', 'twentieth', 'centuri', 'touch', 'upon', 'profound', 'anticathol', 'prejudic', 'british', 'american', 'establish', 'heart', 'film', 'perenni', 'favourit', 'triumph', 'oddsbr', 'br', 'act', 'exemplari', 'throughout', 'stephen', 'dillan', 'excel', 'usual', 'revel', 'movi', 'shia', 'laboeuf', 'deliv', 'disciplin', 'dignifi', 'highli', 'sympathet', 'perform', 'work', 'class', 'francoirish', 'kid', 'fight', 'way', 'prejudic', 'new', 'england', 'wasp', 'establish', 'familiar', 'slapstick', 'perform', 'even', 'steven', 'demonstr', 'matur', 'delight', 'surpris', 'josh', 'flitter', 'ten', 'year', 'old', 'caddi', 'threaten', 'steal', 'everi', 'scene', 'appearsbr', 'br', 'old', 'fashion', 'movi', 'best', 'sens', 'word', 'fine', 'act', 'clear', 'direct', 'great', 'stori', 'grip', 'end', 'final', 'scene', 'affection', 'nod', 'casablanca', 'one', 'mani', 'pleasur', 'fill', 'great', 'movi']\n"
     ]
    }
   ],
   "source": [
    "stemmer = PorterStemmer()\n",
    "\n",
    "# Function to apply stemming to each token in the list of tokens\n",
    "def stem_tokens(tokens_list):\n",
    "    return [stemmer.stem(word) for word in tokens_list]\n",
    "\n",
    "# Apply the function to each list of tokens in the series\n",
    "stemmed_tokens_series_test = tokens_no_stopwords_series_test.apply(stem_tokens)\n",
    "\n",
    "# Example: Print the stemmed tokens of the first 5 reviews\n",
    "for tokens in stemmed_tokens_series_test.head():\n",
    "    print(tokens)"
   ]
  },
  {
   "cell_type": "markdown",
   "id": "c1855688",
   "metadata": {},
   "source": [
    "7. Lemmatization"
   ]
  },
  {
   "cell_type": "code",
   "execution_count": 109,
   "id": "bb29a083",
   "metadata": {},
   "outputs": [
    {
     "name": "stdout",
     "output_type": "stream",
     "text": [
      "['bromwel', 'high', 'cartoon', 'comedi', 'ran', 'time', 'program', 'school', 'life', 'teacher', '35', 'year', 'teach', 'profess', 'lead', 'believ', 'bromwel', 'high', 'satir', 'much', 'closer', 'realiti', 'teacher', 'scrambl', 'surviv', 'financi', 'insight', 'student', 'see', 'right', 'pathet', 'teacher', 'pomp', 'petti', 'whole', 'situat', 'remind', 'school', 'knew', 'student', 'saw', 'episod', 'student', 'repeatedli', 'tri', 'burn', 'school', 'immedi', 'recal', 'high', 'classic', 'line', 'inspector', 'im', 'sack', 'one', 'teacher', 'student', 'welcom', 'bromwel', 'high', 'expect', 'mani', 'adult', 'age', 'think', 'bromwel', 'high', 'far', 'fetch', 'piti', 'isnt']\n",
      "['homeless', 'houseless', 'georg', 'carlin', 'state', 'issu', 'year', 'never', 'plan', 'help', 'street', 'consid', 'human', 'everyth', 'go', 'school', 'work', 'vote', 'matter', 'peopl', 'think', 'homeless', 'lost', 'caus', 'worri', 'thing', 'racism', 'war', 'iraq', 'pressur', 'kid', 'succeed', 'technolog', 'elect', 'inflat', 'worri', 'theyll', 'next', 'end', 'streetsbr', 'br', 'given', 'bet', 'live', 'street', 'month', 'without', 'luxuri', 'home', 'entertain', 'set', 'bathroom', 'pictur', 'wall', 'comput', 'everyth', 'treasur', 'see', 'like', 'homeless', 'goddard', 'bolt', 'lessonbr', 'br', 'mel', 'brook', 'direct', 'star', 'bolt', 'play', 'rich', 'man', 'everyth', 'world', 'decid', 'make', 'bet', 'sissi', 'rival', 'jefferi', 'tambor', 'see', 'live', 'street', 'thirti', 'day', 'without', 'luxuri', 'bolt', 'succe', 'want', 'futur', 'project', 'make', 'build', 'bet', 'bolt', 'thrown', 'street', 'bracelet', 'leg', 'monitor', 'everi', 'move', 'cant', 'step', 'sidewalk', 'he', 'given', 'nicknam', 'pepto', 'vagrant', 'written', 'forehead', 'bolt', 'meet', 'charact', 'includ', 'woman', 'name', 'molli', 'lesley', 'ann', 'warren', 'exdanc', 'got', 'divorc', 'lose', 'home', 'pal', 'sailor', 'howard', 'morri', 'fume', 'teddi', 'wilson', 'alreadi', 'use', 'street', 'theyr', 'survivor', 'bolt', 'isnt', 'he', 'use', 'reach', 'mutual', 'agreement', 'like', 'rich', 'fight', 'flight', 'kill', 'killedbr', 'br', 'love', 'connect', 'molli', 'bolt', 'wasnt', 'necessari', 'plot', 'found', 'life', 'stink', 'one', 'mel', 'brook', 'observ', 'film', 'prior', 'comedi', 'show', 'tender', 'side', 'compar', 'slapstick', 'work', 'blaze', 'saddl', 'young', 'frankenstein', 'spacebal', 'matter', 'show', 'like', 'someth', 'valuabl', 'lose', 'next', 'day', 'hand', 'make', 'stupid', 'bet', 'like', 'rich', 'peopl', 'dont', 'know', 'money', 'mayb', 'give', 'homeless', 'instead', 'use', 'like', 'monopoli', 'moneybr', 'br', 'mayb', 'film', 'inspir', 'help', 'other']\n",
      "['brilliant', 'overact', 'lesley', 'ann', 'warren', 'best', 'dramat', 'hobo', 'ladi', 'ever', 'seen', 'love', 'scene', 'cloth', 'warehous', 'second', 'none', 'corn', 'face', 'classic', 'good', 'anyth', 'blaze', 'saddl', 'take', 'lawyer', 'also', 'superb', 'accus', 'turncoat', 'sell', 'bos', 'dishonest', 'lawyer', 'pepto', 'bolt', 'shrug', 'indiffer', 'im', 'lawyer', 'say', 'three', 'funni', 'word', 'jeffrey', 'tambor', 'favorit', 'later', 'larri', 'sander', 'show', 'fantast', 'mad', 'millionair', 'want', 'crush', 'ghetto', 'charact', 'malevol', 'usual', 'hospit', 'scene', 'scene', 'homeless', 'invad', 'demolit', 'site', 'alltim', 'classic', 'look', 'leg', 'scene', 'two', 'big', 'digger', 'fight', 'one', 'bleed', 'movi', 'get', 'better', 'time', 'see', 'quit', 'often']\n",
      "['easili', 'underr', 'film', 'inn', 'brook', 'cannon', 'sure', 'flaw', 'give', 'realist', 'view', 'homeless', 'unlik', 'say', 'citizen', 'kane', 'gave', 'realist', 'view', 'loung', 'singer', 'titan', 'gave', 'realist', 'view', 'italian', 'idiot', 'mani', 'joke', 'fall', 'flat', 'still', 'film', 'lovabl', 'way', 'mani', 'comedi', 'pull', 'stori', 'tradit', 'revil', 'member', 'societi', 'truli', 'impress', 'fisher', 'king', 'crap', 'either', 'complaint', 'brook', 'cast', 'someon', 'el', 'lead', 'love', 'mel', 'director', 'writer', 'much', 'lead']\n",
      "['typic', 'mel', 'brook', 'film', 'much', 'le', 'slapstick', 'movi', 'actual', 'plot', 'follow', 'lesli', 'ann', 'warren', 'made', 'movi', 'fantast', 'underr', 'actress', 'moment', 'could', 'flesh', 'bit', 'scene', 'could', 'probabl', 'cut', 'make', 'room', 'worth', 'price', 'rent', 'see', 'act', 'good', 'overal', 'brook', 'good', 'job', 'without', 'characterist', 'speak', 'directli', 'audienc', 'warren', 'best', 'actor', 'movi', 'fume', 'sailor', 'play', 'part', 'well']\n"
     ]
    }
   ],
   "source": [
    "from nltk.stem import WordNetLemmatizer\n",
    "\n",
    "lemmatizer = WordNetLemmatizer()\n",
    "\n",
    "# Function to apply lemmatization to each token in the list of tokens\n",
    "def lemmatize_tokens(tokens_list):\n",
    "    return [lemmatizer.lemmatize(word) for word in tokens_list]\n",
    "\n",
    "# Apply the function to each list of stemmed tokens in the series\n",
    "lemmatized_tokens_series_train = stemmed_tokens_series_train.apply(lemmatize_tokens)\n",
    "\n",
    "# Example: Print the lemmatized tokens of the first 5 reviews\n",
    "for tokens in lemmatized_tokens_series_train.head():\n",
    "    print(tokens)\n"
   ]
  },
  {
   "cell_type": "code",
   "execution_count": 110,
   "id": "2f049633",
   "metadata": {},
   "outputs": [
    {
     "name": "stdout",
     "output_type": "stream",
     "text": [
      "['went', 'saw', 'movi', 'last', 'night', 'coax', 'friend', 'mine', 'ill', 'admit', 'reluct', 'see', 'knew', 'ashton', 'kutcher', 'abl', 'comedi', 'wrong', 'kutcher', 'play', 'charact', 'jake', 'fischer', 'well', 'kevin', 'costner', 'play', 'ben', 'randal', 'profession', 'sign', 'good', 'movi', 'toy', 'emot', 'one', 'exactli', 'entir', 'theater', 'sold', 'overcom', 'laughter', 'first', 'half', 'movi', 'move', 'tear', 'second', 'half', 'exit', 'theater', 'saw', 'mani', 'woman', 'tear', 'mani', 'full', 'grown', 'men', 'well', 'tri', 'desper', 'let', 'anyon', 'see', 'cri', 'movi', 'great', 'suggest', 'go', 'see', 'judg']\n",
      "['actor', 'turn', 'director', 'bill', 'paxton', 'follow', 'promis', 'debut', 'gothichorror', 'frailti', 'famili', 'friendli', 'sport', 'drama', '1913', 'u', 'open', 'young', 'american', 'caddi', 'rise', 'humbl', 'background', 'play', 'bristish', 'idol', 'dub', 'greatest', 'game', 'ever', 'play', 'im', 'fan', 'golf', 'scrappi', 'underdog', 'sport', 'flick', 'dime', 'dozen', 'recent', 'done', 'grand', 'effect', 'miracl', 'cinderella', 'man', 'film', 'enthral', 'samebr', 'br', 'film', 'start', 'creativ', 'open', 'credit', 'imagin', 'disneyfi', 'version', 'anim', 'open', 'credit', 'hbo', 'carnival', 'rome', 'lumber', 'along', 'slowli', 'first', 'bythenumb', 'hour', 'action', 'move', 'u', 'open', 'thing', 'pick', 'well', 'paxton', 'nice', 'job', 'show', 'knack', 'effect', 'directori', 'flourish', 'love', 'rainsoak', 'montag', 'action', 'day', 'two', 'open', 'propel', 'plot', 'add', 'unexpect', 'psycholog', 'depth', 'proceed', 'there', 'compel', 'charact', 'develop', 'british', 'harri', 'vardon', 'haunt', 'imag', 'aristocrat', 'black', 'suit', 'top', 'hat', 'destroy', 'famili', 'cottag', 'child', 'make', 'way', 'golf', 'cours', 'also', 'good', 'job', 'visual', 'depict', 'goe', 'player', 'head', 'pressur', 'golf', 'pain', 'bore', 'sport', 'brought', 'vividli', 'aliv', 'credit', 'also', 'given', 'set', 'design', 'costum', 'depart', 'creat', 'engag', 'periodpiec', 'atmospher', 'london', 'boston', 'begin', 'twentieth', 'centurybr', 'br', 'know', 'go', 'end', 'base', 'true', 'stori', 'also', 'film', 'genr', 'follow', 'templat', 'paxton', 'put', 'better', 'averag', 'show', 'perhap', 'indic', 'talent', 'behind', 'camera', 'ever', 'front', 'despit', 'formula', 'natur', 'nice', 'easi', 'film', 'root', 'deserv', 'find', 'audienc']\n",
      "['recreat', 'golfer', 'knowledg', 'sport', 'histori', 'plea', 'disney', 'sensit', 'issu', 'class', 'golf', 'earli', 'twentieth', 'centuri', 'movi', 'depict', 'well', 'psycholog', 'battl', 'harri', 'vardon', 'fought', 'within', 'childhood', 'trauma', 'evict', 'inabl', 'break', 'glass', 'ceil', 'prevent', 'accept', 'equal', 'english', 'golf', 'societi', 'likewis', 'young', 'ouimet', 'goe', 'class', 'struggl', 'mere', 'caddi', 'eye', 'upper', 'crust', 'american', 'scoff', 'attempt', 'rise', 'stand', 'br', 'br', 'love', 'best', 'howev', 'theme', 'class', 'manifest', 'charact', 'ouimet', 'parent', 'father', 'workingclass', 'drone', 'see', 'valu', 'hard', 'work', 'intimid', 'upper', 'class', 'mother', 'howev', 'recogn', 'son', 'talent', 'desir', 'encourag', 'pursu', 'dream', 'compet', 'think', 'inferiorbr', 'br', 'final', 'golf', 'scene', 'well', 'photograph', 'although', 'cours', 'use', 'movi', 'actual', 'site', 'histor', 'tournament', 'littl', 'liberti', 'taken', 'disney', 'detract', 'beauti', 'film', 'there', 'one', 'littl', 'disney', 'moment', 'pool', 'tabl', 'otherwis', 'viewer', 'realli', 'think', 'disney', 'end', 'miracl', 'disney', 'creation', 'one', 'human', 'histori', 'could', 'written']\n",
      "['saw', 'film', 'sneak', 'preview', 'delight', 'cinematographi', 'unusu', 'creativ', 'act', 'good', 'stori', 'fabul', 'movi', 'well', 'wont', 'doesnt', 'deserv', 'film', 'didnt', 'realiz', 'charm', 'shia', 'lebouf', 'could', 'marvel', 'selfcontain', 'job', 'lead', 'there', 'someth', 'incred', 'sweet', 'make', 'movi', 'even', 'better', 'actor', 'good', 'job', 'well', 'film', 'contain', 'moment', 'realli', 'high', 'suspens', 'one', 'might', 'expect', 'movi', 'golf', 'sport', 'movi', 'dime', 'dozen', 'one', 'stand', 'br', 'br', 'one', 'id', 'recommend', 'anyon']\n",
      "['bill', 'paxton', 'taken', 'true', 'stori', '1913', 'u', 'golf', 'open', 'made', 'film', 'much', 'extraordinari', 'game', 'golf', 'film', 'also', 'deal', 'directli', 'class', 'tension', 'earli', 'twentieth', 'centuri', 'touch', 'upon', 'profound', 'anticathol', 'prejudic', 'british', 'american', 'establish', 'heart', 'film', 'perenni', 'favourit', 'triumph', 'oddsbr', 'br', 'act', 'exemplari', 'throughout', 'stephen', 'dillan', 'excel', 'usual', 'revel', 'movi', 'shia', 'laboeuf', 'deliv', 'disciplin', 'dignifi', 'highli', 'sympathet', 'perform', 'work', 'class', 'francoirish', 'kid', 'fight', 'way', 'prejudic', 'new', 'england', 'wasp', 'establish', 'familiar', 'slapstick', 'perform', 'even', 'steven', 'demonstr', 'matur', 'delight', 'surpris', 'josh', 'flitter', 'ten', 'year', 'old', 'caddi', 'threaten', 'steal', 'everi', 'scene', 'appearsbr', 'br', 'old', 'fashion', 'movi', 'best', 'sen', 'word', 'fine', 'act', 'clear', 'direct', 'great', 'stori', 'grip', 'end', 'final', 'scene', 'affection', 'nod', 'casablanca', 'one', 'mani', 'pleasur', 'fill', 'great', 'movi']\n"
     ]
    }
   ],
   "source": [
    "lemmatizer = WordNetLemmatizer()\n",
    "\n",
    "# Function to apply lemmatization to each token in the list of tokens\n",
    "def lemmatize_tokens(tokens_list):\n",
    "    return [lemmatizer.lemmatize(word) for word in tokens_list]\n",
    "\n",
    "# Apply the function to each list of stemmed tokens in the series\n",
    "lemmatized_tokens_series_test = stemmed_tokens_series_test.apply(lemmatize_tokens)\n",
    "\n",
    "# Example: Print the lemmatized tokens of the first 5 reviews\n",
    "for tokens in lemmatized_tokens_series_test.head():\n",
    "    print(tokens)"
   ]
  },
  {
   "cell_type": "markdown",
   "id": "72dbeb8f",
   "metadata": {},
   "source": [
    "8. Sentence Segmentation"
   ]
  },
  {
   "cell_type": "code",
   "execution_count": 111,
   "id": "9e817fe4",
   "metadata": {
    "scrolled": false
   },
   "outputs": [
    {
     "name": "stdout",
     "output_type": "stream",
     "text": [
      "Review 1: ['bromwell high is a cartoon comedy it ran at the same time as some other programs about school life such as teachers my 35 years in the teaching profession lead me to believe that bromwell highs satire is much closer to reality than is teachers the scramble to survive financially the insightful students who can see right through their pathetic teachers pomp the pettiness of the whole situation all remind me of the schools i knew and their students when i saw the episode in which a student repeatedly tried to burn down the school i immediately recalled  at  high a classic line inspector im here to sack one of your teachers student welcome to bromwell high i expect that many adults of my age think that bromwell high is far fetched what a pity that it isnt']\n",
      "\n",
      "Review 2: ['homelessness or houselessness as george carlin stated has been an issue for years but never a plan to help those on the street that were once considered human who did everything from going to school work or vote for the matter most people think of the homeless as just a lost cause while worrying about things such as racism the war on iraq pressuring kids to succeed technology the elections inflation or worrying if theyll be next to end up on the streetsbr br but what if you were given a bet to live on the streets for a month without the luxuries you once had from a home the entertainment sets a bathroom pictures on the wall a computer and everything you once treasure to see what its like to be homeless that is goddard bolts lessonbr br mel brooks who directs who stars as bolt plays a rich man who has everything in the world until deciding to make a bet with a sissy rival jeffery tambor to see if he can live in the streets for thirty days without the luxuries if bolt succeeds he can do what he wants with a future project of making more buildings the bets on where bolt is thrown on the street with a bracelet on his leg to monitor his every move where he cant step off the sidewalk hes given the nickname pepto by a vagrant after its written on his forehead where bolt meets other characters including a woman by the name of molly lesley ann warren an exdancer who got divorce before losing her home and her pals sailor howard morris and fumes teddy wilson who are already used to the streets theyre survivors bolt isnt hes not used to reaching mutual agreements like he once did when being rich where its fight or flight kill or be killedbr br while the love connection between molly and bolt wasnt necessary to plot i found life stinks to be one of mel brooks observant films where prior to being a comedy it shows a tender side compared to his slapstick work such as blazing saddles young frankenstein or spaceballs for the matter to show what its like having something valuable before losing it the next day or on the other hand making a stupid bet like all rich people do when they dont know what to do with their money maybe they should give it to the homeless instead of using it like monopoly moneybr br or maybe this film will inspire you to help others']\n",
      "\n",
      "Review 3: ['brilliant overacting by lesley ann warren best dramatic hobo lady i have ever seen and love scenes in clothes warehouse are second to none the corn on face is a classic as good as anything in blazing saddles the take on lawyers is also superb after being accused of being a turncoat selling out his boss and being dishonest the lawyer of pepto bolt shrugs indifferently im a lawyer he says three funny words jeffrey tambor a favorite from the later larry sanders show is fantastic here too as a mad millionaire who wants to crush the ghetto his character is more malevolent than usual the hospital scene and the scene where the homeless invade a demolition site are alltime classics look for the legs scene and the two big diggers fighting one bleeds this movie gets better each time i see it which is quite often']\n",
      "\n",
      "Review 4: ['this is easily the most underrated film inn the brooks cannon sure its flawed it does not give a realistic view of homelessness unlike say how citizen kane gave a realistic view of lounge singers or titanic gave a realistic view of italians you idiots many of the jokes fall flat but still this film is very lovable in a way many comedies are not and to pull that off in a story about some of the most traditionally reviled members of society is truly impressive its not the fisher king but its not crap either my only complaint is that brooks should have cast someone else in the lead i love mel as a director and writer not so much as a lead']\n",
      "\n",
      "Review 5: ['this is not the typical mel brooks film it was much less slapstick than most of his movies and actually had a plot that was followable leslie ann warren made the movie she is such a fantastic underrated actress there were some moments that could have been fleshed out a bit more and some scenes that could probably have been cut to make the room to do so but all in all this is worth the price to rent and see it the acting was good overall brooks himself did a good job without his characteristic speaking to directly to the audience again warren was the best actor in the movie but fume and sailor both played their parts well']\n",
      "\n"
     ]
    }
   ],
   "source": [
    "from nltk.tokenize import sent_tokenize\n",
    "\n",
    "# Function to apply sentence tokenization to a text\n",
    "def tokenize_sentences(text):\n",
    "    return sent_tokenize(text)\n",
    "\n",
    "# Apply the function to each review in the Series\n",
    "sentences_series_train = text_lower_train.apply(tokenize_sentences)\n",
    "\n",
    "# Example: Print the sentence tokens of the first 5 reviews\n",
    "for i, sentences in enumerate(sentences_series_train.head(), 1):\n",
    "    print(f\"Review {i}: {sentences}\\n\")\n"
   ]
  },
  {
   "cell_type": "code",
   "execution_count": 112,
   "id": "a2e1b30e",
   "metadata": {},
   "outputs": [
    {
     "name": "stdout",
     "output_type": "stream",
     "text": [
      "Review 1: ['i went and saw this movie last night after being coaxed to by a few friends of mine ill admit that i was reluctant to see it because from what i knew of ashton kutcher he was only able to do comedy i was wrong kutcher played the character of jake fischer very well and kevin costner played ben randall with such professionalism the sign of a good movie is that it can toy with our emotions this one did exactly that the entire theater which was sold out was overcome by laughter during the first half of the movie and were moved to tears during the second half while exiting the theater i not only saw many women in tears but many full grown men as well trying desperately not to let anyone see them crying this movie was great and i suggest that you go see it before you judge']\n",
      "\n",
      "Review 2: ['actor turned director bill paxton follows up his promising debut the gothichorror frailty with this family friendly sports drama about the 1913 us open where a young american caddy rises from his humble background to play against his bristish idol in what was dubbed as the greatest game ever played im no fan of golf and these scrappy underdog sports flicks are a dime a dozen most recently done to grand effect with miracle and cinderella man but some how this film was enthralling all the samebr br the film starts with some creative opening credits imagine a disneyfied version of the animated opening credits of hbos carnivale and rome but lumbers along slowly for its first bythenumbers hour once the action moves to the us open things pick up very well paxton does a nice job and shows a knack for effective directorial flourishes i loved the rainsoaked montage of the action on day two of the open that propel the plot further or add some unexpected psychological depth to the proceedings theres some compelling character development when the british harry vardon is haunted by images of the aristocrats in black suits and top hats who destroyed his family cottage as a child to make way for a golf course he also does a good job of visually depicting what goes on in the players heads under pressure golf a painfully boring sport is brought vividly alive here credit should also be given the set designers and costume department for creating an engaging periodpiece atmosphere of london and boston at the beginning of the twentieth centurybr br you know how this is going to end not only because its based on a true story but also because films in this genre follow the same template over and over but paxton puts on a better than average show and perhaps indicates more talent behind the camera than he ever had in front of it despite the formulaic nature this is a nice and easy film to root for that deserves to find an audience']\n",
      "\n",
      "Review 3: ['as a recreational golfer with some knowledge of the sports history i was pleased with disneys sensitivity to the issues of class in golf in the early twentieth century the movie depicted well the psychological battles that harry vardon fought within himself from his childhood trauma of being evicted to his own inability to break that glass ceiling that prevents him from being accepted as an equal in english golf society likewise the young ouimet goes through his own class struggles being a mere caddie in the eyes of the upper crust americans who scoff at his attempts to rise above his standing br br what i loved best however is how this theme of class is manifested in the characters of ouimets parents his father is a workingclass drone who sees the value of hard work but is intimidated by the upper class his mother however recognizes her sons talent and desire and encourages him to pursue his dream of competing against those who think he is inferiorbr br finally the golf scenes are well photographed although the course used in the movie was not the actual site of the historical tournament the little liberties taken by disney do not detract from the beauty of the film theres one little disney moment at the pool table otherwise the viewer does not really think disney the ending as in miracle is not some disney creation but one that only human history could have written']\n",
      "\n",
      "Review 4: ['i saw this film in a sneak preview and it is delightful the cinematography is unusually creative the acting is good and the story is fabulous if this movie does not do well it wont be because it doesnt deserve to before this film i didnt realize how charming shia lebouf could be he does a marvelous selfcontained job as the lead theres something incredibly sweet about him and it makes the movie even better the other actors do a good job as well and the film contains moments of really high suspense more than one might expect from a movie about golf sports movies are a dime a dozen but this one stands out br br this is one id recommend to anyone']\n",
      "\n",
      "Review 5: ['bill paxton has taken the true story of the 1913 us golf open and made a film that is about much more than an extraordinary game of golf the film also deals directly with the class tensions of the early twentieth century and touches upon the profound anticatholic prejudices of both the british and american establishments but at heart the film is about that perennial favourite of triumph against the oddsbr br the acting is exemplary throughout stephen dillane is excellent as usual but the revelation of the movie is shia laboeuf who delivers a disciplined dignified and highly sympathetic performance as a working class francoirish kid fighting his way through the prejudices of the new england wasp establishment for those who are only familiar with his slapstick performances in even stevens this demonstration of his maturity is a delightful surprise and josh flitter as the ten year old caddy threatens to steal every scene in which he appearsbr br a old fashioned movie in the best sense of the word fine acting clear directing and a great story that grips to the end  the final scene an affectionate nod to casablanca is just one of the many pleasures that fill a great movie']\n",
      "\n"
     ]
    }
   ],
   "source": [
    "def tokenize_sentences(text):\n",
    "    return sent_tokenize(text)\n",
    "\n",
    "# Apply the function to each review in the Series\n",
    "sentences_series_test = text_lower_test.apply(tokenize_sentences)\n",
    "\n",
    "# Example: Print the sentence tokens of the first 5 reviews\n",
    "for i, sentences in enumerate(sentences_series_test.head(), 1):\n",
    "    print(f\"Review {i}: {sentences}\\n\")"
   ]
  }
 ],
 "metadata": {
  "kernelspec": {
   "display_name": "Python 3 (ipykernel)",
   "language": "python",
   "name": "python3"
  },
  "language_info": {
   "codemirror_mode": {
    "name": "ipython",
    "version": 3
   },
   "file_extension": ".py",
   "mimetype": "text/x-python",
   "name": "python",
   "nbconvert_exporter": "python",
   "pygments_lexer": "ipython3",
   "version": "3.11.5"
  }
 },
 "nbformat": 4,
 "nbformat_minor": 5
}
